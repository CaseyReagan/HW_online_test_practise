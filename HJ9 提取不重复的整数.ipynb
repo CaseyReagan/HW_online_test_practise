{
 "cells": [
  {
   "cell_type": "markdown",
   "id": "987b3538",
   "metadata": {},
   "source": [
    "# HJ9 提取不重复的整数"
   ]
  },
  {
   "cell_type": "markdown",
   "id": "ce0b7e4d",
   "metadata": {},
   "source": [
    "描述\n",
    "输入一个 int 型整数，按照从右向左的阅读顺序，返回一个不含重复数字的新的整数。\n",
    "保证输入的整数最后一位不是 0 。\n",
    "\n",
    "数据范围： \n",
    "1\n",
    "≤\n",
    "n\n",
    "≤\n",
    "1\n",
    "0\n",
    "8\n",
    " \n",
    "1≤n≤10 \n",
    "8\n",
    "  \n",
    "输入描述：\n",
    "输入一个int型整数\n",
    "\n",
    "输出描述：\n",
    "按照从右向左的阅读顺序，返回一个不含重复数字的新的整数"
   ]
  },
  {
   "cell_type": "markdown",
   "id": "7395dd15",
   "metadata": {},
   "source": [
    "示例1\n",
    "输入：\n",
    "9876673\n",
    "\n",
    "输出：\n",
    "37689\n"
   ]
  },
  {
   "cell_type": "code",
   "execution_count": null,
   "id": "13a9e4cc",
   "metadata": {},
   "outputs": [],
   "source": [
    "n= input()\n",
    "\n",
    "n_lst = []\n",
    "str_n = ''\n",
    "\n",
    "for i in range(1,len(n)+1):\n",
    "    if n[-i] not in n_lst:\n",
    "        n_lst.append(n[-i])\n",
    "\n",
    "for i in n_lst:\n",
    "    str_n = str_n + i\n",
    "\n",
    "print(str_n)"
   ]
  },
  {
   "cell_type": "markdown",
   "id": "c6c661f6",
   "metadata": {},
   "source": [
    "---"
   ]
  },
  {
   "cell_type": "code",
   "execution_count": null,
   "id": "711dd77b",
   "metadata": {},
   "outputs": [],
   "source": [
    "a = input()\n",
    "a = a[::-1]\n",
    "num=[]\n",
    "for i in a:\n",
    "    if i in num:\n",
    "        continue\n",
    "    else:\n",
    "        num.append(i)\n",
    "        print(i,end='')\n"
   ]
  },
  {
   "cell_type": "code",
   "execution_count": null,
   "id": "27cdfa4b",
   "metadata": {},
   "outputs": [],
   "source": [
    "str1 = input() \n",
    "list1 = list(str1) \n",
    "list1.reverse() \n",
    "list2 = [] \n",
    "for i in list1: \n",
    "    if i not in list2: \n",
    "        print(i,end=\"\") \n",
    "        list2.append(i)"
   ]
  }
 ],
 "metadata": {
  "kernelspec": {
   "display_name": "Python 3",
   "language": "python",
   "name": "python3"
  },
  "language_info": {
   "codemirror_mode": {
    "name": "ipython",
    "version": 3
   },
   "file_extension": ".py",
   "mimetype": "text/x-python",
   "name": "python",
   "nbconvert_exporter": "python",
   "pygments_lexer": "ipython3",
   "version": "3.8.8"
  }
 },
 "nbformat": 4,
 "nbformat_minor": 5
}
