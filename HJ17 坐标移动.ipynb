{
 "cells": [
  {
   "cell_type": "markdown",
   "id": "90c792b7",
   "metadata": {},
   "source": [
    "# HJ17 坐标移动"
   ]
  },
  {
   "cell_type": "markdown",
   "id": "8d00b194",
   "metadata": {},
   "source": [
    "开发一个坐标计算工具， A表示向左移动，D表示向右移动，W表示向上移动，S表示向下移动。从（0,0）点开始移动，从输入字符串里面读取一些坐标，并将最终输入结果输出到输出文件里面。\n",
    "\n",
    "输入：\n",
    "\n",
    "合法坐标为A(或者D或者W或者S) + 数字（两位以内）\n",
    "\n",
    "坐标之间以;分隔。\n",
    "\n",
    "非法坐标点需要进行丢弃。如AA10;  A1A;  $%$;  YAD; 等。\n",
    "\n",
    "下面是一个简单的例子 如：\n",
    "\n",
    "A10;S20;W10;D30;X;A1A;B10A11;;A10;\n",
    "\n",
    "处理过程：\n",
    "\n",
    "起点（0,0）\n",
    "\n",
    "+   A10   =  （-10,0）\n",
    "\n",
    "+   S20   =  (-10,-20)\n",
    "\n",
    "+   W10  =  (-10,-10)\n",
    "\n",
    "+   D30  =  (20,-10)\n",
    "\n",
    "+   x    =  无效\n",
    "\n",
    "+   A1A   =  无效\n",
    "\n",
    "+   B10A11   =  无效\n",
    "\n",
    "+  一个空 不影响\n",
    "\n",
    "+   A10  =  (10,-10)\n",
    "\n",
    "结果 （10， -10）\n",
    "\n",
    "数据范围：每组输入的字符串长度满足 \n",
    "1\n",
    "≤\n",
    "n\n",
    "≤\n",
    "10000\n",
    " \n",
    "1≤n≤10000  ，坐标保证满足 \n",
    "−\n",
    "2\n",
    "31\n",
    "≤\n",
    "x\n",
    ",\n",
    "y\n",
    "≤\n",
    "2\n",
    "31\n",
    "−\n",
    "1\n",
    " \n",
    "−2 \n",
    "31\n",
    " ≤x,y≤2 \n",
    "31\n",
    " −1  ，且数字部分仅含正数"
   ]
  },
  {
   "cell_type": "markdown",
   "id": "6aa381ba",
   "metadata": {},
   "source": [
    "输入描述：\n",
    "一行字符串\n",
    "\n",
    "输出描述：\n",
    "最终坐标，以逗号分隔\n",
    "\n",
    "示例1\n",
    "输入：\n",
    "A10;S20;W10;D30;X;A1A;B10A11;;A10;\n",
    "\n",
    "输出：\n",
    "10,-10\n",
    "\n",
    "示例2\n",
    "输入：\n",
    "ABC;AKL;DA1;\n",
    "\n",
    "输出：\n",
    "0,0\n"
   ]
  },
  {
   "cell_type": "markdown",
   "id": "61d38e6e",
   "metadata": {},
   "source": [
    "A10;S20;W10;D30;X;A1A;B10A11;;A10;\n",
    "\n",
    "ABC;AKL;DA1;"
   ]
  },
  {
   "cell_type": "markdown",
   "id": "133cad68",
   "metadata": {},
   "source": [
    "---"
   ]
  },
  {
   "cell_type": "code",
   "execution_count": 97,
   "id": "2bbb9a41",
   "metadata": {},
   "outputs": [
    {
     "name": "stdout",
     "output_type": "stream",
     "text": [
      "A10;S20;W10;D30;X;A1A;B10A11;;A10;\n",
      "['A10', 'S20', 'W10', 'D30', 'X', 'A1A', 'B10A11', '', 'A10', ''] <class 'list'>\n"
     ]
    }
   ],
   "source": [
    "import sys\n",
    "\n",
    "str1 = input()\n",
    "\n",
    "# str1 = 'A10;S20;W10;D30;X;A1A;B10A11;;A10;H10;'\n",
    "\n",
    "lst = str1.split(';')\n",
    "\n",
    "print(lst,type(lst))\n",
    "\n",
    "lst2 = []"
   ]
  },
  {
   "cell_type": "code",
   "execution_count": 98,
   "id": "c903d96e",
   "metadata": {},
   "outputs": [
    {
     "name": "stdout",
     "output_type": "stream",
     "text": [
      "['A10', 'S20', 'W10', 'D30', 'A10']\n"
     ]
    }
   ],
   "source": [
    "for word in lst:\n",
    "    if len(word)<2 or len(word)>3 or word == '' or word[0] not in {'A','W','S','D'}:\n",
    "        continue\n",
    "    else:\n",
    "        n = word[1:3]\n",
    "        if n.isnumeric():\n",
    "            lst2.append(word)\n",
    "\n",
    "print(lst2)"
   ]
  },
  {
   "cell_type": "code",
   "execution_count": 103,
   "id": "2c82b899",
   "metadata": {},
   "outputs": [
    {
     "name": "stdout",
     "output_type": "stream",
     "text": [
      "A10 10 [-10, 0]\n",
      "S20 20 [-10, -20]\n",
      "W10 10 [-10, -10]\n",
      "D30 30 [20, -10]\n",
      "A10 10 [10, -10]\n"
     ]
    }
   ],
   "source": [
    "locat = [0,0]\n",
    "\n",
    "for word in lst2:\n",
    "    move = word[0]\n",
    "    step = int(word[1:3])\n",
    "    \n",
    "    if move == 'A':\n",
    "        locat[0] = locat[0] - step\n",
    "    elif move == 'D':\n",
    "        locat[0] = locat[0] + step\n",
    "    elif move == 'W':\n",
    "        locat[1] = locat[1] + step\n",
    "    elif move == 'S':\n",
    "        locat[1] = locat[1] - step\n",
    "        \n",
    "    print(word,step,locat)"
   ]
  },
  {
   "cell_type": "markdown",
   "id": "fd42eac6",
   "metadata": {},
   "source": [
    "---"
   ]
  },
  {
   "cell_type": "code",
   "execution_count": 104,
   "id": "c7a893cd",
   "metadata": {},
   "outputs": [
    {
     "name": "stdout",
     "output_type": "stream",
     "text": [
      "A10;S20;W10;D30;X;A1A;B10A11;;A10;\n",
      "10,-10\n"
     ]
    }
   ],
   "source": [
    "lst = input().split(\";\")\n",
    "\n",
    "lst2 = []\n",
    "\n",
    "locat = [0, 0]\n",
    "\n",
    "for word in lst:\n",
    "    if (\n",
    "        len(word) < 2\n",
    "        or len(word) > 3\n",
    "        or word == \"\"\n",
    "        or word[0] not in {\"A\", \"W\", \"S\", \"D\"}\n",
    "    ):\n",
    "        continue\n",
    "    else:\n",
    "        n = word[1:3]\n",
    "        if n.isnumeric():\n",
    "            lst2.append(word)\n",
    "\n",
    "for word in lst2:\n",
    "    move = word[0]\n",
    "    step = int(word[1:3])\n",
    "\n",
    "    if move == \"A\":\n",
    "        locat[0] = locat[0] - step\n",
    "    elif move == \"D\":\n",
    "        locat[0] = locat[0] + step\n",
    "    elif move == \"W\":\n",
    "        locat[1] = locat[1] + step\n",
    "    elif move == \"S\":\n",
    "        locat[1] = locat[1] - step\n",
    "    else:\n",
    "        continue\n",
    "\n",
    "print(str(locat[0])+','+str(locat[1]))\n",
    "#print(f'{locat[0]},{locat[1]}')\n"
   ]
  },
  {
   "cell_type": "markdown",
   "id": "dc111da6",
   "metadata": {},
   "source": [
    "# 网友最佳代码"
   ]
  },
  {
   "cell_type": "code",
   "execution_count": null,
   "id": "fa7b7f68",
   "metadata": {},
   "outputs": [],
   "source": [
    "input_list = input().split(';')\n",
    "initial = [0,0]\n",
    "\n",
    "for item in input_list:\n",
    "    if not 2 <= len(item) <= 3:\n",
    "        continue\n",
    "\n",
    "    try:\n",
    "        direction = item[0]\n",
    "        step = int(item[1:])\n",
    "        if direction in ['A', 'D', 'W', 'S']:\n",
    "            if 0 <= step <= 99:\n",
    "                if direction == 'A':\n",
    "                    initial[0] -= step\n",
    "                elif direction == 'D':\n",
    "                    initial[0] += step\n",
    "                elif direction == 'S':\n",
    "                    initial[1] -= step\n",
    "                elif direction == 'W':\n",
    "                    initial[1] += step\n",
    "    except:\n",
    "        continue\n",
    "\n",
    "print(str(initial[0]) + ',' + str(initial[1]))"
   ]
  }
 ],
 "metadata": {
  "kernelspec": {
   "display_name": "Python 3",
   "language": "python",
   "name": "python3"
  },
  "language_info": {
   "codemirror_mode": {
    "name": "ipython",
    "version": 3
   },
   "file_extension": ".py",
   "mimetype": "text/x-python",
   "name": "python",
   "nbconvert_exporter": "python",
   "pygments_lexer": "ipython3",
   "version": "3.8.8"
  }
 },
 "nbformat": 4,
 "nbformat_minor": 5
}
