{
 "cells": [
  {
   "cell_type": "markdown",
   "id": "45c07ec2",
   "metadata": {},
   "source": [
    "# HJ5接受字符串输入，形式为16进制，输出为int类型十进制打印"
   ]
  },
  {
   "cell_type": "code",
   "execution_count": 7,
   "id": "9ff168d7",
   "metadata": {},
   "outputs": [],
   "source": [
    "import sys\n",
    "\n",
    "for line in sys.stdin:for line in sys.stdin:\n",
    "    a = line.split()\n",
    "    #print(type(a))\n",
    "    a2 = a[0]\n",
    "    #print(a2,type(a2))\n",
    "    b = int(a2,16)\n",
    "    #print(int(a[0]) + int(a[1]))\n",
    "    print(b)"
   ]
  },
  {
   "cell_type": "code",
   "execution_count": 18,
   "id": "0e5a7098",
   "metadata": {},
   "outputs": [
    {
     "name": "stdout",
     "output_type": "stream",
     "text": [
      "0xAA <class 'list'>\n",
      "0xAA <class 'str'>\n",
      "170\n"
     ]
    }
   ],
   "source": [
    "a = [\"0xAA\"]\n",
    "print(a2,type(a))\n",
    "a2 = a[0]\n",
    "print(a2,type(a2))\n",
    "b = int(a2, 16) \n",
    "print(b)\n"
   ]
  },
  {
   "cell_type": "code",
   "execution_count": 14,
   "id": "7242af74",
   "metadata": {},
   "outputs": [
    {
     "name": "stdout",
     "output_type": "stream",
     "text": [
      "0x7b <class 'str'>\n",
      "123\n"
     ]
    }
   ],
   "source": [
    "hex_num = \"0x7b\"          # 十六进制数\n",
    "print(hex_num,type(hex_num))\n",
    "num_from_hex = int(hex_num, 16)    # 十六进制转十进制\n",
    "\n",
    "print(num_from_hex)"
   ]
  },
  {
   "cell_type": "markdown",
   "id": "164666fe",
   "metadata": {},
   "source": [
    "---"
   ]
  },
  {
   "cell_type": "markdown",
   "id": "e212dabc",
   "metadata": {},
   "source": [
    "# HJ1 字符串最后一个单词的长度"
   ]
  },
  {
   "cell_type": "markdown",
   "id": "54fe8bf5",
   "metadata": {},
   "source": [
    "输入：\n",
    "hello nowcoder\n",
    "输出：\n",
    "8   \n",
    "说明：\n",
    "最后一个单词为nowcoder，长度为8   "
   ]
  },
  {
   "cell_type": "code",
   "execution_count": 21,
   "id": "0e76054a",
   "metadata": {},
   "outputs": [],
   "source": [
    "import sys\n",
    "\n",
    "for line in sys.stdin:\n",
    "    a = line.split()\n",
    "    b = a[-1]\n",
    "    #print(b,type(b))\n",
    "    print(len(b))\n",
    "    #print(int(a[0]) + int(a[1]))"
   ]
  },
  {
   "cell_type": "code",
   "execution_count": 22,
   "id": "90cd0efe",
   "metadata": {},
   "outputs": [
    {
     "name": "stdout",
     "output_type": "stream",
     "text": [
      "hello world\n",
      "5\n"
     ]
    }
   ],
   "source": [
    " print(len(input().split(' ')[-1]))"
   ]
  },
  {
   "cell_type": "markdown",
   "id": "1fdbb8b3",
   "metadata": {},
   "source": [
    "# HJ2 计算某字符出现次数"
   ]
  },
  {
   "cell_type": "code",
   "execution_count": null,
   "id": "faaa1e32",
   "metadata": {},
   "outputs": [],
   "source": [
    "str1 = input().lower()\n",
    "#print(str1)\n",
    "str2 = input().lower()\n",
    "\n",
    "print(str1.count(str2))"
   ]
  },
  {
   "cell_type": "code",
   "execution_count": 26,
   "id": "a5bcd00d",
   "metadata": {},
   "outputs": [
    {
     "name": "stdout",
     "output_type": "stream",
     "text": [
      "2\n"
     ]
    }
   ],
   "source": [
    "str1 = \"ABCdfdsafp\"\n",
    "str2 = \"a\"\n",
    "\n",
    "str3 = str1.lower()\n",
    "#print(str3)\n",
    "print(str3.count(str2))"
   ]
  },
  {
   "cell_type": "markdown",
   "id": "3a734574",
   "metadata": {},
   "source": [
    "# HJ3 明明的随机数"
   ]
  },
  {
   "cell_type": "markdown",
   "id": "a4c576ca",
   "metadata": {},
   "source": [
    "明明生成了\n",
    "N\n",
    "N个1到500之间的随机整数。请你删去其中重复的数字，即相同的数字只保留一个，把其余相同的数去掉，然后再把这些数从小到大排序，按照排好的顺序输出。"
   ]
  },
  {
   "cell_type": "markdown",
   "id": "dae6891d",
   "metadata": {},
   "source": [
    "但是不允许用Numpy，啊这"
   ]
  },
  {
   "cell_type": "code",
   "execution_count": 36,
   "id": "539f4af1",
   "metadata": {},
   "outputs": [
    {
     "name": "stdout",
     "output_type": "stream",
     "text": [
      "<class 'int'>5\n",
      "[ 73  45 409  55 140]\n",
      "[ 45  55  73 140 409]\n",
      "45\n",
      "55\n",
      "73\n",
      "140\n",
      "409\n"
     ]
    }
   ],
   "source": [
    "## 不准用Numpy\n",
    "import numpy as np\n",
    "\n",
    "num_n = input(int)\n",
    "num_n2 = int (num_n)\n",
    "#print(num_n, type(num_n))\n",
    "\n",
    "#rand_list = [random.randint(1,100) for _ in range(num_n)]\n",
    "#print(rand_list)\n",
    "\n",
    "num_list = np.random.randint(1,500, size = num_n2)\n",
    "print(num_list)\n",
    "num_list.sort()\n",
    "\n",
    "res = np.unique(num_list)\n",
    "print(res)\n",
    "\n",
    "for i in range(len(res)):\n",
    "    print(res[i])"
   ]
  },
  {
   "cell_type": "code",
   "execution_count": 46,
   "id": "f357f8a2",
   "metadata": {},
   "outputs": [
    {
     "name": "stdout",
     "output_type": "stream",
     "text": [
      "<class 'int'>10\n",
      "[13, 84, 122, 140, 187, 232, 392, 432, 437, 485]\n",
      "[13, 84, 122, 140, 187, 232, 392, 432, 437, 485]\n"
     ]
    }
   ],
   "source": [
    "import random\n",
    "\n",
    "num_n = input(int)\n",
    "num_n2 = int (num_n)\n",
    "\n",
    "num_list = [random.randint(1,500) for _ in range(num_n2)]\n",
    "\n",
    "num_list.sort()\n",
    "print(num_list)\n",
    "\n",
    "num_list_now = num_list[0]\n",
    "\n",
    "num_list_new = []\n",
    "num_list_new.append(num_list_now)\n",
    "\n",
    "#print(num_list_new)\n",
    "\n",
    "\n",
    "for i in range(1,num_n2):\n",
    "    if num_list[i] == num_list_now :\n",
    "        continue\n",
    "    else:\n",
    "        num_list_now = num_list[i]\n",
    "        num_list_new.append(num_list_now)\n",
    "\n",
    "print(num_list_new)\n",
    "\n",
    "## 这个是对的，但是不符合题目要求，还是得按题目要求来"
   ]
  },
  {
   "cell_type": "markdown",
   "id": "033dad90",
   "metadata": {},
   "source": [
    "输入：    \n",
    "3    \n",
    "\n",
    "2   \n",
    "\n",
    "2   \n",
    "\n",
    "1   \n",
    "   \n",
    "输出：   \n",
    "1   \n",
    "\n",
    "2   \n",
    "   \n",
    "说明：   \n",
    "输入解释：   \n",
    "第一个数字是3，也即这个小样例的N=3，说明用计算机生成了3个1到500之间的随机整数，接下来每行一个随机数字，共3行，也即这3个随机数字为：   \n",
    "2   \n",
    "\n",
    "2   \n",
    "\n",
    "1   \n",
    "\n",
    "所以样例的输出为：   \n",
    "1   \n",
    "\n",
    "2   "
   ]
  },
  {
   "cell_type": "code",
   "execution_count": 50,
   "id": "cc2b98e4",
   "metadata": {},
   "outputs": [
    {
     "name": "stdout",
     "output_type": "stream",
     "text": [
      "3\n",
      "2\n",
      "2\n",
      "1\n",
      "[1, 2, 2]\n",
      "1\n",
      "2\n"
     ]
    }
   ],
   "source": [
    "import random\n",
    "\n",
    "lst = []\n",
    "num_n = int(input())\n",
    "\n",
    "for i in range(num_n):\n",
    "    lst.append(int(input()))\n",
    "\n",
    "lst.sort()\n",
    "#print(lst)\n",
    "\n",
    "num_list_now = lst[0]\n",
    "num_list_new = []\n",
    "num_list_new.append(num_list_now)\n",
    "\n",
    "for i in range(1,num_n):\n",
    "    if lst[i] == num_list_now :\n",
    "        continue\n",
    "    else:\n",
    "        num_list_now = lst[i]\n",
    "        num_list_new.append(num_list_now)\n",
    "\n",
    "for i in range(len(num_list_new)):\n",
    "    print(num_list_new[i])"
   ]
  },
  {
   "cell_type": "markdown",
   "id": "255b0f9b",
   "metadata": {},
   "source": [
    "以上是正确的，再换一种解法"
   ]
  },
  {
   "cell_type": "code",
   "execution_count": 51,
   "id": "0e4058ca",
   "metadata": {},
   "outputs": [
    {
     "name": "stdout",
     "output_type": "stream",
     "text": [
      "3\n",
      "2\n",
      "2\n",
      "1\n",
      "1\n",
      "2\n"
     ]
    }
   ],
   "source": [
    "import random\n",
    "\n",
    "lst = []\n",
    "num_n = int(input())\n",
    "\n",
    "for i in range(num_n):\n",
    "    lst.append(int(input()))\n",
    "\n",
    "uniq_set = set(lst)\n",
    "\n",
    "for j in sorted(uniq_set):\n",
    "    print(j)"
   ]
  },
  {
   "cell_type": "markdown",
   "id": "4f21da61",
   "metadata": {},
   "source": [
    "# HJ4 字符串分隔"
   ]
  },
  {
   "cell_type": "markdown",
   "id": "52411030",
   "metadata": {},
   "source": [
    "描述   \n",
    "•输入一个字符串，请按长度为8拆分每个输入字符串并进行输出；   \n",
    "   \n",
    "•长度不是8整数倍的字符串请在后面补数字0，空字符串不处理。   \n",
    "输入描述：   \n",
    "连续输入字符串(每个字符串长度小于等于100)   \n",
    "   \n",
    "输出描述：   \n",
    "依次输出所有分割后的长度为8的新字符串   "
   ]
  },
  {
   "cell_type": "markdown",
   "id": "b71397a1",
   "metadata": {},
   "source": [
    "示例1   \n",
    "输入：    \n",
    "abc   \n",
    "\n",
    "输出：   \n",
    "abc00000   "
   ]
  },
  {
   "cell_type": "code",
   "execution_count": 68,
   "id": "008111d8",
   "metadata": {},
   "outputs": [
    {
     "name": "stdout",
     "output_type": "stream",
     "text": [
      "232332323\n",
      "23233232\n",
      "30000000\n"
     ]
    }
   ],
   "source": [
    "import sys\n",
    "\n",
    "a = str(input())\n",
    "\n",
    "a_chu = len(a) // 8\n",
    "a_yu = len(a) % 8\n",
    "\n",
    "#print(a_chu,a_yu)\n",
    "\n",
    "b_add = 8 - a_yu\n",
    "\n",
    "for i in range(a_chu):\n",
    "    print(a[i*8:(i+1)*8])\n",
    "\n",
    "if a_yu != 0:\n",
    "    print(a[-a_yu:] + '0'*(b_add))\n",
    "\n"
   ]
  },
  {
   "cell_type": "code",
   "execution_count": 69,
   "id": "2c95c0e1",
   "metadata": {},
   "outputs": [
    {
     "name": "stdout",
     "output_type": "stream",
     "text": [
      "abc\n",
      "abc00000\n"
     ]
    }
   ],
   "source": [
    "while True:\n",
    "    try:\n",
    "        s = input()\n",
    "        l = len(s)\n",
    "        x = l//8\n",
    "        y = l%8\n",
    "        for i in range(x):\n",
    "            print(s[i*8:(i+1)*8])\n",
    "        if y != 0:\n",
    "            print(s[-y:]+\"0\"*(8-y))\n",
    "    except:\n",
    "        break"
   ]
  },
  {
   "cell_type": "code",
   "execution_count": null,
   "id": "861fea6b",
   "metadata": {},
   "outputs": [],
   "source": [
    "while True:   ##这里就是存在多行输入的话，避免异常\n",
    "    try:\n",
    "        s = input()    #首先获取输入，得到字符串\n",
    "        while len(s) >8:     #进入循环，条件是s变量的长度>8\n",
    "            print(s[:8])     #条件为真的话，打印出s按顺序从索引为0开始到末尾，步数为8，这样切片操作可以分开\n",
    "            s = s[8:]        #输出长度大于8的部分赋值给新的S变量，如果还大于8，继续循环\n",
    "        print(s.ljust(8,'0'))    #上面退出循环输出两部分，一部分为8位长度的，还有一部分不足8长度的用0填充到指定长度\n",
    "    except:##\n",
    "        break##\n"
   ]
  },
  {
   "cell_type": "code",
   "execution_count": null,
   "id": "5bd253fb",
   "metadata": {},
   "outputs": [],
   "source": []
  }
 ],
 "metadata": {
  "kernelspec": {
   "display_name": "Python 3",
   "language": "python",
   "name": "python3"
  },
  "language_info": {
   "codemirror_mode": {
    "name": "ipython",
    "version": 3
   },
   "file_extension": ".py",
   "mimetype": "text/x-python",
   "name": "python",
   "nbconvert_exporter": "python",
   "pygments_lexer": "ipython3",
   "version": "3.8.8"
  }
 },
 "nbformat": 4,
 "nbformat_minor": 5
}
