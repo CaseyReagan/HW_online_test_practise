{
 "cells": [
  {
   "cell_type": "markdown",
   "id": "7d0eeb23",
   "metadata": {},
   "source": [
    "# HJ14 字符串排序"
   ]
  },
  {
   "cell_type": "markdown",
   "id": "9e30bf5e",
   "metadata": {},
   "source": [
    "描述\n",
    "\n",
    "给定 n 个字符串，请对 n 个字符串按照字典序排列。\n",
    "\n",
    "数据范围： \n",
    "1≤ n ≤1000\n",
    " \n",
    "1≤ n ≤1000  ，字符串长度满足 \n",
    "1≤ len ≤100\n",
    " \n",
    "1≤ len ≤100 \n",
    "\n",
    "输入描述：   \n",
    "输入第一行为一个正整数n(1≤n≤1000),下面n行为n个字符串(字符串长度≤100),字符串中只含有大小写字母。   \n",
    "输出描述：   \n",
    "数据输出n行，输出结果为按照字典序排列的字符串，大写字母在小写字母前。   \n",
    "示例1   "
   ]
  },
  {
   "cell_type": "markdown",
   "id": "842822ed",
   "metadata": {},
   "source": [
    "输入：   \n",
    "11   \n",
    "cap   \n",
    "to   \n",
    "cat   \n",
    "card   \n",
    "two   \n",
    "too   \n",
    "up   \n",
    "boat   \n",
    "boot   \n",
    "AA   \n",
    "Aa   \n",
    "\n",
    "输出：   \n",
    "AA   \n",
    "Aa   \n",
    "boat   \n",
    "boot   \n",
    "cap   \n",
    "card   \n",
    "cat   \n",
    "to   \n",
    "too   \n",
    "two   \n",
    "up   "
   ]
  },
  {
   "cell_type": "code",
   "execution_count": null,
   "id": "f00f0c6f",
   "metadata": {},
   "outputs": [],
   "source": [
    "n = int(input())\n",
    "lst = []\n",
    "\n",
    "for i in range(n):\n",
    "    lst.append(input())\n",
    "\n",
    "#print(sorted(lst))\n",
    "\n",
    "lst_2 = sorted(lst)\n",
    "\n",
    "for i in range(len(lst_2)):\n",
    "    print(lst_2[i])"
   ]
  },
  {
   "cell_type": "markdown",
   "id": "b896be46",
   "metadata": {},
   "source": [
    "# HJ15 求int型正整数在内存中存储时1的个数"
   ]
  },
  {
   "cell_type": "markdown",
   "id": "bdbebd56",
   "metadata": {},
   "source": [
    "描述\n",
    "\n",
    "输入一个 int 型的正整数，计算出该 int 型数据在内存中存储时 1 的个数。\n",
    "\n",
    "数据范围：保证在 32 位整型数字范围内\n",
    "输入描述：\n",
    " 输入一个整数（int类型）\n",
    "\n",
    "输出描述：\n",
    " 这个数转换成2进制后，输出1的个数"
   ]
  },
  {
   "cell_type": "markdown",
   "id": "70872447",
   "metadata": {},
   "source": [
    "示例1\n",
    "输入：\n",
    "5\n",
    "\n",
    "输出：\n",
    "2\n"
   ]
  },
  {
   "cell_type": "code",
   "execution_count": null,
   "id": "a9f633ba",
   "metadata": {},
   "outputs": [],
   "source": [
    "n = int(input())\n",
    "\n",
    "bin_n = bin(n)\n",
    "\n",
    "print(bin_n.count('1'))\n"
   ]
  },
  {
   "cell_type": "code",
   "execution_count": null,
   "id": "baa4191b",
   "metadata": {},
   "outputs": [],
   "source": []
  }
 ],
 "metadata": {
  "kernelspec": {
   "display_name": "Python 3",
   "language": "python",
   "name": "python3"
  },
  "language_info": {
   "codemirror_mode": {
    "name": "ipython",
    "version": 3
   },
   "file_extension": ".py",
   "mimetype": "text/x-python",
   "name": "python",
   "nbconvert_exporter": "python",
   "pygments_lexer": "ipython3",
   "version": "3.8.8"
  }
 },
 "nbformat": 4,
 "nbformat_minor": 5
}
