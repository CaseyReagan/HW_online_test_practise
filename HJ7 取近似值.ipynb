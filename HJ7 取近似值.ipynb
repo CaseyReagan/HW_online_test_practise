{
 "cells": [
  {
   "cell_type": "markdown",
   "id": "01bc6d51",
   "metadata": {},
   "source": [
    "# HJ7 取近似值"
   ]
  },
  {
   "cell_type": "markdown",
   "id": "26f75fe4",
   "metadata": {},
   "source": [
    "描述\n",
    "写出一个程序，接受一个正浮点数值，输出该数值的近似整数值。如果小数点后数值大于等于 0.5 ,向上取整；小于 0.5 ，则向下取整。\n",
    "\n",
    "数据范围：保证输入的数字在 32 位浮点数范围内\n",
    "输入描述：\n",
    "输入一个正浮点数值\n",
    "\n",
    "输出描述：\n",
    "输出该数值的近似整数值"
   ]
  },
  {
   "cell_type": "markdown",
   "id": "23cb4d98",
   "metadata": {},
   "source": [
    "示例1\n",
    "输入：\n",
    "5.5\n",
    "\n",
    "输出：\n",
    "6\n",
    "\n",
    "说明：\n",
    "0.5>=0.5，所以5.5需要向上取整为6   \n",
    "示例2\n",
    "输入：\n",
    "2.499\n",
    "\n",
    "输出：\n",
    "2\n",
    "\n",
    "说明：\n",
    "0.499<0.5，2.499向下取整为2   "
   ]
  },
  {
   "cell_type": "markdown",
   "id": "06e7ccd4",
   "metadata": {},
   "source": [
    "就是写一个四舍五入"
   ]
  },
  {
   "cell_type": "code",
   "execution_count": null,
   "id": "753650a9",
   "metadata": {},
   "outputs": [],
   "source": []
  },
  {
   "cell_type": "code",
   "execution_count": 8,
   "id": "fc0a8b57",
   "metadata": {},
   "outputs": [
    {
     "name": "stdout",
     "output_type": "stream",
     "text": [
      "15\n"
     ]
    }
   ],
   "source": [
    "#f_n = float(input())\n",
    "#f_n = 14.567\n",
    "f_n = 15.432\n",
    "\n",
    "n_str = str(f_n)\n",
    "n_list = n_str.split('.')\n",
    "n = str(n_list[1])\n",
    "\n",
    "if int(n[0]) >= 5:\n",
    "    res = int(n_list[0])+1\n",
    "else:\n",
    "    res = int(n_list[0])\n",
    "    \n",
    "print(res)"
   ]
  },
  {
   "cell_type": "markdown",
   "id": "0d8af41b",
   "metadata": {},
   "source": [
    "---"
   ]
  },
  {
   "cell_type": "code",
   "execution_count": null,
   "id": "4dcb746f",
   "metadata": {},
   "outputs": [],
   "source": [
    "n = float(input())\n",
    "res = n // 1   #计算整数部分数值\n",
    "tep = n - res  #计算小数部分数值\n",
    "#判断小数部分数值，并输出结果\n",
    "if tep >= 0.5:\n",
    "    print(int(res + 1))\n",
    "else:\n",
    "    print(int(res))"
   ]
  },
  {
   "cell_type": "code",
   "execution_count": null,
   "id": "0064fbd9",
   "metadata": {},
   "outputs": [],
   "source": [
    "n = float(input()) \n",
    "if n - int(n) >= 0.5: \n",
    "    print(int(n)+1) \n",
    "else: \n",
    "    print(int(n))"
   ]
  },
  {
   "cell_type": "code",
   "execution_count": null,
   "id": "bcf468dd",
   "metadata": {},
   "outputs": [],
   "source": [
    "from math import ceil\n",
    "n = 15.678\n",
    "n2 = 14.324\n",
    "\n",
    "print(ceil(n))\n",
    "print(ceil(n2))"
   ]
  },
  {
   "cell_type": "code",
   "execution_count": null,
   "id": "6e7fb0c8",
   "metadata": {},
   "outputs": [],
   "source": [
    "#思路1\n",
    "\n",
    "# from math import ceil,floor\n",
    "# def ceilNumber(n):\n",
    "#     a = ceil(n)-n\n",
    "#     if (a<=0.5):\n",
    "#         return ceil(n)\n",
    "#     return floor(n)\n",
    "# b = float(input())\n",
    "# print(ceilNumber(b))\n",
    "\n",
    "\n",
    "#思路2\n",
    "# def ceilNumber(n):\n",
    "#     a = int(n+0.5)\n",
    "#     return a\n",
    "# b = float(input())\n",
    "# print(ceilNumber(b))\n",
    "\n",
    "#思路3\n",
    "n = float(input())\n",
    "y = lambda x : int(x+0.5)\n",
    "print(y(n))"
   ]
  }
 ],
 "metadata": {
  "kernelspec": {
   "display_name": "Python 3",
   "language": "python",
   "name": "python3"
  },
  "language_info": {
   "codemirror_mode": {
    "name": "ipython",
    "version": 3
   },
   "file_extension": ".py",
   "mimetype": "text/x-python",
   "name": "python",
   "nbconvert_exporter": "python",
   "pygments_lexer": "ipython3",
   "version": "3.8.8"
  }
 },
 "nbformat": 4,
 "nbformat_minor": 5
}
