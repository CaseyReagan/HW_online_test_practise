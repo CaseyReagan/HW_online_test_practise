{
 "cells": [
  {
   "cell_type": "markdown",
   "id": "963ab7cf",
   "metadata": {},
   "source": [
    "# HJ6 质数因子"
   ]
  },
  {
   "cell_type": "markdown",
   "id": "8201e5ea",
   "metadata": {},
   "source": [
    "描述    \n",
    "功能:输入一个正整数，按照从小到大的顺序输出它的所有质因子（重复的也要列举）（如180的质因子为2 2 3 3 5 ）    \n",
    "\n",
    "\n",
    "数据范围：   \n",
    "1≤n≤2×10^8+14    \n",
    " \n",
    "1≤n≤2×10^8 +14    \n",
    "输入描述：    \n",
    "输入一个整数    \n",
    "\n",
    "输出描述：    \n",
    "按照从小到大的顺序输出它的所有质数的因子，以空格隔开。    "
   ]
  },
  {
   "cell_type": "markdown",
   "id": "4075b35e",
   "metadata": {},
   "source": [
    "示例1   \n",
    "输入：   \n",
    "180   \n",
    "\n",
    "输出：   \n",
    "2 2 3 3 5   "
   ]
  },
  {
   "cell_type": "markdown",
   "id": "f35c0b8e",
   "metadata": {},
   "source": [
    "# 啥是质因子"
   ]
  },
  {
   "cell_type": "markdown",
   "id": "a3b9cb03",
   "metadata": {},
   "source": [
    "### 能整除给定正整数的质数   \n",
    "‌质因子（质因数）在数论中是指能整除给定正整数的质数。‌质因子是正整数的一种特殊因子，它必须是质数，即除了1和它本身以外没有其他因子的数。‌"
   ]
  },
  {
   "cell_type": "markdown",
   "id": "3a8ae329",
   "metadata": {},
   "source": [
    "### 质因子的应用和计算方法\n",
    "质因数分解是将一个正整数表示为一连串的质因子相乘的过程。例如，6的质因子是2和3（6=2×3）。计算一个数的质因子可以通过不断除以该数的最小质因子，直到该数变为1为止。例如，分解255的过程为：255 ÷ 3 = 85，85 ÷ 5 = 17，17 ÷ 17 = 1。"
   ]
  },
  {
   "cell_type": "markdown",
   "id": "e7f1a7ee",
   "metadata": {},
   "source": [
    "### 质因子在数学中的重要性\n",
    "质因子在数论中非常重要，因为它们是构建所有正整数的基础。根据算术基本定理，每个正整数都可以唯一地表示为其质因数的乘积。这一性质使得质因子在数学分析和证明中起到关键作用。"
   ]
  },
  {
   "cell_type": "markdown",
   "id": "0a38af0d",
   "metadata": {},
   "source": [
    "# 重点中的重点"
   ]
  },
  {
   "cell_type": "markdown",
   "id": "c90a8a96",
   "metadata": {},
   "source": [
    "正整数分解质因子，如果从最小2开始除，这个正整数可以除尽的情况，遇到的第一个被除数一定是个质数，比如2,3,5，能被4整除的数也一定能被2整除，所以其实只要从2开始判断除尽的数就可以了。"
   ]
  },
  {
   "cell_type": "code",
   "execution_count": null,
   "id": "23533afe",
   "metadata": {},
   "outputs": [],
   "source": [
    "n = int(input())\n",
    "\n",
    "for prime in range(2,int(n**0.5 + 1)):\n",
    "    while n % prime == 0:\n",
    "        n = n // prime\n",
    "        print(prime,end = ' ')\n",
    "\n",
    "if n >= 2:\n",
    "    print(n)\n",
    " "
   ]
  },
  {
   "cell_type": "code",
   "execution_count": null,
   "id": "49f355d8",
   "metadata": {},
   "outputs": [],
   "source": []
  },
  {
   "cell_type": "markdown",
   "id": "890e1423",
   "metadata": {},
   "source": [
    "---"
   ]
  },
  {
   "cell_type": "code",
   "execution_count": null,
   "id": "6c36489b",
   "metadata": {},
   "outputs": [],
   "source": [
    "import math\n",
    "n = int(input())\n",
    "for i in range(2, int(math.sqrt(n))+1):\n",
    "\t# 一个数可以被它所有的质因子表示\n",
    "    # 这里仅考虑不大于根号下n的因子\n",
    "    # 因为当n被所有不大于根号下n的【质】因子整除后，要么余1，要么余2，要么会剩下一个且仅会剩下一个大于等于根号下n小于等于n的质数（不可能出现两个不相等且同时大于根号下n的质因子a和b，这会导致a*b>n）\n",
    "# for i in range(2, n):\n",
    "    # 2<=i<n\n",
    "    while n % i == 0:\n",
    "        # 第一个能被整除的一定是最小的质数因子（如果是合数，一定有2<=x<i的质因子x）\n",
    "        # 后续能被整除的也一定是质数，若是合数，则合数的质因子肯定出现在之前，不成立\n",
    "        print(i, end=' ')  # 得到的每个i都是n的质因子（即列举重复的质因子）\n",
    "        n = n // i  # n不断变小，确保没有i这个质因子\n",
    "        # 双除号：输出整数\n",
    "if n > 2:\n",
    "    print(n)\n"
   ]
  },
  {
   "cell_type": "code",
   "execution_count": null,
   "id": "b12b2ed3",
   "metadata": {},
   "outputs": [],
   "source": [
    "import math\n",
    "n = int(input())\n",
    "for i in range(2, int(math.sqrt(n))+1):\n",
    "    while n % i == 0:\n",
    "        print(i, end=' ')\n",
    "        n = n // i\n",
    "if n > 2:\n",
    "    print(n)\n"
   ]
  },
  {
   "cell_type": "code",
   "execution_count": null,
   "id": "a2ed8435",
   "metadata": {},
   "outputs": [],
   "source": [
    "自己的思路复杂了，抄的两种优秀思路方法，汇总在此，留待后查：\n",
    "# 方法一：\n",
    "import math\n",
    "n = int(input())\n",
    "if n < 2:\n",
    "    pass\n",
    "else:\n",
    "    for i in range(2, int(math.sqrt(n))+1):\n",
    "        while n % i == 0:\n",
    "            print(i, end=' ')\n",
    "            n = n // i   # //为整数除法，向下取整，相当于n = int(n / i)\n",
    "    if n >= 2:\n",
    "        print(n)\n",
    "  \n",
    "# 方法二：\n",
    "num = int(input())\n",
    "s = ''\n",
    "prime = 2\n",
    "while prime < num**0.5+1:\n",
    "    if num%prime != 0:\n",
    "        prime += 1\n",
    "    else:\n",
    "        num = num //prime\n",
    "        s += str(prime)+' '\n",
    "        prime = 2\n",
    "if num>=2:\n",
    "    s += str(num)+' '\n",
    "print(s)            \n"
   ]
  },
  {
   "cell_type": "markdown",
   "id": "fc116dc8",
   "metadata": {},
   "source": [
    "大多数同学只关注到了一开始的时候使用平方根降低复杂度，然而忽略了后续进一步的优化，假如测试用例加上2的1000次方会如何？\n",
    "使用while循环会比使用for循环时间复杂度要低，for循环的条件在循环中是不可变化的，而while循环每一次都可以重新调整条件缩小范围（如果条件有变化），从而这个时间复杂度差不多是\n",
    "1\n",
    "2\n",
    "log\n",
    "⁡\n",
    "n\n",
    "2\n",
    "1\n",
    "​\n",
    " logn，而高赞题解所使用的for循环时间复杂度是\n",
    "n\n",
    "n\n",
    "​\n",
    " 。\n",
    "本地测试中，测试数字为2的60次方时，while循环用时0秒，高赞for循环用时107.0277秒。狗头保命"
   ]
  },
  {
   "cell_type": "code",
   "execution_count": null,
   "id": "772b7da8",
   "metadata": {},
   "outputs": [],
   "source": [
    "import math\n",
    "num = int(input())\n",
    "s = ''\n",
    "prime = 2\n",
    "while prime < math.sqrt(num)+1:\n",
    "    if num%prime != 0:\n",
    "        prime += 1\n",
    "    else:\n",
    "        num = num //prime\n",
    "        s += str(prime)+' '\n",
    "        prime = 2\n",
    "if num>=2:\n",
    "    s += str(num)+' '\n",
    "print(s)\n"
   ]
  }
 ],
 "metadata": {
  "kernelspec": {
   "display_name": "Python 3",
   "language": "python",
   "name": "python3"
  },
  "language_info": {
   "codemirror_mode": {
    "name": "ipython",
    "version": 3
   },
   "file_extension": ".py",
   "mimetype": "text/x-python",
   "name": "python",
   "nbconvert_exporter": "python",
   "pygments_lexer": "ipython3",
   "version": "3.8.8"
  }
 },
 "nbformat": 4,
 "nbformat_minor": 5
}
