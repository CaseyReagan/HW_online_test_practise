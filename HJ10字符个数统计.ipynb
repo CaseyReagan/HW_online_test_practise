{
 "cells": [
  {
   "cell_type": "markdown",
   "id": "cb491289",
   "metadata": {},
   "source": [
    "# HJ10 字符个数统计"
   ]
  },
  {
   "cell_type": "markdown",
   "id": "b819fe14",
   "metadata": {},
   "source": [
    "描述\n",
    "\n",
    "编写一个函数，计算字符串中含有的不同字符的个数。字符在 ASCII 码范围内( 0~127 ，包括 0 和 127 )，换行表示结束符，不算在字符里。不在范围内的不作统计。多个相同的字符只计算一次\n",
    "\n",
    "例如，对于字符串 abaca 而言，有 a、b、c 三种不同的字符，因此输出 3 。\n",
    "\n",
    "数据范围： \n",
    "\n",
    "1≤n≤500\n",
    "\n",
    " \n",
    "输入描述：\n",
    "\n",
    "输入一行没有空格的字符串。\n",
    "\n",
    "输出描述：\n",
    "\n",
    "输出 输入字符串 中范围在(0~127，包括0和127)字符的种数。"
   ]
  },
  {
   "cell_type": "markdown",
   "id": "c9a331de",
   "metadata": {},
   "source": [
    "示例1\n",
    "\n",
    "输入：abc\n",
    "\n",
    "输出：3\n",
    "\n",
    "示例2\n",
    "\n",
    "输入：aaa\n",
    "\n",
    "输出：1\n"
   ]
  },
  {
   "cell_type": "code",
   "execution_count": null,
   "id": "76849ee5",
   "metadata": {},
   "outputs": [],
   "source": [
    "import sys\n",
    "\n",
    "str_in = str(input())\n",
    "\n",
    "glo_i = 0\n",
    "\n",
    "for i in range(128):\n",
    "    if chr(i) in str_in:\n",
    "        glo_i = glo_i + 1\n",
    "\n",
    "print(glo_i)"
   ]
  }
 ],
 "metadata": {
  "kernelspec": {
   "display_name": "Python 3",
   "language": "python",
   "name": "python3"
  },
  "language_info": {
   "codemirror_mode": {
    "name": "ipython",
    "version": 3
   },
   "file_extension": ".py",
   "mimetype": "text/x-python",
   "name": "python",
   "nbconvert_exporter": "python",
   "pygments_lexer": "ipython3",
   "version": "3.8.8"
  }
 },
 "nbformat": 4,
 "nbformat_minor": 5
}
