{
 "cells": [
  {
   "cell_type": "markdown",
   "id": "ed2ba220",
   "metadata": {},
   "source": [
    "# HJ33 整数与IP地址间的转换"
   ]
  },
  {
   "cell_type": "markdown",
   "id": "5281e031",
   "metadata": {},
   "source": [
    "描述   \n",
    "原理：ip地址的每段可以看成是一个0-255的整数，把每段拆分成一个二进制形式组合起来，然后把这个二进制数转变成\n",
    "一个长整数。   \n",
    "举例：一个ip地址为10.0.3.193   \n",
    "每段数字             相对应的二进制数   \n",
    "10                   00001010   \n",
    "0                    00000000   \n",
    "3                    00000011   \n",
    "193                  11000001   \n",
    "   \n",
    "组合起来即为：00001010 00000000 00000011 11000001,转换为10进制数就是：167773121，即该IP地址转换后的数字就是它了。   \n",
    "   \n",
    "数据范围：保证输入的是合法的 IP 序列   \n",
    "\n",
    "\n",
    "输入描述：   \n",
    "输入    \n",
    "1 输入IP地址   \n",
    "2 输入10进制型的IP地址   \n",
    "    \n",
    "输出描述：   \n",
    "输出   \n",
    "1 输出转换成10进制的IP地址   \n",
    "2 输出转换后的IP地址   "
   ]
  },
  {
   "cell_type": "code",
   "execution_count": null,
   "id": "7613c3a6",
   "metadata": {},
   "outputs": [],
   "source": [
    "ip_lst = input(str).split('.')\n",
    "\n"
   ]
  }
 ],
 "metadata": {
  "kernelspec": {
   "display_name": "Python 3",
   "language": "python",
   "name": "python3"
  },
  "language_info": {
   "codemirror_mode": {
    "name": "ipython",
    "version": 3
   },
   "file_extension": ".py",
   "mimetype": "text/x-python",
   "name": "python",
   "nbconvert_exporter": "python",
   "pygments_lexer": "ipython3",
   "version": "3.8.8"
  }
 },
 "nbformat": 4,
 "nbformat_minor": 5
}
