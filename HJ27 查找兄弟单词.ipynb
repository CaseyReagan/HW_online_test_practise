{
 "cells": [
  {
   "cell_type": "markdown",
   "id": "0390f02b",
   "metadata": {},
   "source": [
    "# HJ27 查找兄弟单词"
   ]
  },
  {
   "cell_type": "markdown",
   "id": "5ef4c884",
   "metadata": {},
   "source": [
    "描述   \n",
    "定义一个单词的“兄弟单词”为：交换该单词字母顺序（注：可以交换任意次），而不添加、删除、修改原有的字母就能生成的单词。   \n",
    "兄弟单词要求和原来的单词不同。例如： ab 和 ba 是兄弟单词。 ab 和 ab 则不是兄弟单词。   \n",
    "现在给定你 n 个单词，另外再给你一个单词 x ，让你寻找 x 的兄弟单词里，按字典序排列后的第 k 个单词是什么？   \n",
    "注意：字典中可能有重复单词。   \n",
    "\n",
    "数据范围：\n",
    "1≤ n ≤1000   \n",
    "\n",
    "1≤n≤1000 ，输入的字符串长度满足   \n",
    "1≤ len(str) ≤10   \n",
    "\n",
    "1≤len(str)≤10  ，    \n",
    "1≤ k < n\n",
    "\n",
    "1≤ k < n \n",
    "输入描述：   \n",
    "输入只有一行。 先输入字典中单词的个数n，再输入n个单词作为字典单词。 然后输入一个单词x 最后输入一个整数k   \n",
    "输出描述：   \n",
    "第一行输出查找到x的兄弟单词的个数m 第二行输出查找到的按照字典顺序排序后的第k个兄弟单词，没有符合第k个的话则不用输出。   \n",
    "示例1   "
   ]
  },
  {
   "cell_type": "markdown",
   "id": "07a0a7a0",
   "metadata": {},
   "source": [
    "输入：   \n",
    "3 abc bca cab abc 1\n",
    "\n",
    "输出：   \n",
    "2   \n",
    "bca   "
   ]
  },
  {
   "cell_type": "markdown",
   "id": "7ed7e4fb",
   "metadata": {},
   "source": [
    "示例2"
   ]
  },
  {
   "cell_type": "markdown",
   "id": "f34d2201",
   "metadata": {},
   "source": [
    "输入：   \n",
    "7 cab ad abcd cba abc bca bca abc 3   \n",
    "\n",
    "输出：   \n",
    "4   \n",
    "cab   \n",
    "   \n",
    "说明：\n",
    "abc的兄弟单词有cab cba bca bca，所以输出4   \n",
    "经字典序排列后，变为bca bca  cab cba，所以第3个字典序兄弟单词为cab    "
   ]
  },
  {
   "cell_type": "code",
   "execution_count": null,
   "id": "c202ab05",
   "metadata": {},
   "outputs": [],
   "source": []
  }
 ],
 "metadata": {
  "kernelspec": {
   "display_name": "Python 3",
   "language": "python",
   "name": "python3"
  },
  "language_info": {
   "codemirror_mode": {
    "name": "ipython",
    "version": 3
   },
   "file_extension": ".py",
   "mimetype": "text/x-python",
   "name": "python",
   "nbconvert_exporter": "python",
   "pygments_lexer": "ipython3",
   "version": "3.8.8"
  }
 },
 "nbformat": 4,
 "nbformat_minor": 5
}
