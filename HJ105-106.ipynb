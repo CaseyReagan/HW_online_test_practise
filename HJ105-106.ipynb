{
 "cells": [
  {
   "cell_type": "markdown",
   "id": "b4796c72",
   "metadata": {},
   "source": [
    "# HJ105 记负均正II"
   ]
  },
  {
   "cell_type": "markdown",
   "id": "2213ceb3",
   "metadata": {},
   "source": [
    "描述\n",
    "输入 n 个整型数，统计其中的负数个数并求所有非负数的平均值，结果保留一位小数，如果没有非负数，则平均值为0\n",
    "本题有多组输入数据，输入到文件末尾。\n",
    "\n",
    "数据范围：\n",
    "1\n",
    "≤\n",
    "n\n",
    "≤\n",
    "50000\n",
    " \n",
    "1≤n≤50000  ，其中每个数都满足 \n",
    "∣\n",
    "v\n",
    "a\n",
    "l\n",
    "∣\n",
    "≤\n",
    "1\n",
    "0\n",
    "6\n",
    " \n",
    "∣val∣≤10 \n",
    "6\n",
    "  \n",
    "输入描述：\n",
    "输入任意个整数，每行输入一个。\n",
    "\n",
    "输出描述：\n",
    "输出负数个数以及所有非负数的平均值"
   ]
  },
  {
   "cell_type": "markdown",
   "id": "06f47e7d",
   "metadata": {},
   "source": [
    "示例1\n",
    "输入：\n",
    "-13\n",
    "-4\n",
    "-7\n",
    "\n",
    "输出：\n",
    "3\n",
    "\n",
    "0.0\n",
    "\n",
    "示例2\n",
    "输入：\n",
    "-12\n",
    "1\n",
    "2\n",
    "\n",
    "输出：\n",
    "1\n",
    "\n",
    "1.5"
   ]
  },
  {
   "cell_type": "code",
   "execution_count": null,
   "id": "740260a7",
   "metadata": {},
   "outputs": [],
   "source": [
    "a_lst = []\n",
    "while True:\n",
    "    try:\n",
    "        a_lst.append(int(input()))\n",
    "    except:\n",
    "        break\n",
    "\n",
    "sum_po = 0\n",
    "cnt_ne = 0\n",
    "cnt_po = 0\n",
    "\n",
    "for i in a_lst:\n",
    "    if i < 0:\n",
    "        cnt_ne += 1\n",
    "    else:\n",
    "        sum_po += i\n",
    "        cnt_po += 1\n",
    "\n",
    "print(cnt_ne)\n",
    "\n",
    "if cnt_po > 0:\n",
    "    print('%.1f'%(sum_po/cnt_po))\n",
    "else:\n",
    "    print('0.0')"
   ]
  },
  {
   "cell_type": "code",
   "execution_count": null,
   "id": "f0bc9fb7",
   "metadata": {},
   "outputs": [],
   "source": []
  },
  {
   "cell_type": "markdown",
   "id": "097a02ae",
   "metadata": {},
   "source": [
    "# 要记得f的各种输出方法"
   ]
  },
  {
   "cell_type": "code",
   "execution_count": null,
   "id": "c96359b8",
   "metadata": {},
   "outputs": [],
   "source": [
    "lst=[]\n",
    "while True:\n",
    "    try:\n",
    "        lst.append(int(input()))\n",
    "    except:\n",
    "        break\n",
    "fu=[]#负数\n",
    "zn=[]#正数\n",
    "for i in lst:\n",
    "    if i<0:\n",
    "        fu.append(i)\n",
    "    else:\n",
    "        zn.append(i)\n",
    "#print(fu,zn)#测试用\n",
    "print(len(fu))#打印负数个数\n",
    "if len(zn)==0:\n",
    "    print(0.0)\n",
    "else:\n",
    "    print(format(sum(zn)/len(zn),'.1f'))#format用法也要学会\n",
    "    #print(round(sum(zn)/len(zn),1))#最好不要用round\n"
   ]
  },
  {
   "cell_type": "code",
   "execution_count": null,
   "id": "9f7a7adf",
   "metadata": {},
   "outputs": [],
   "source": [
    "\n",
    "\n",
    "#这个题需要注意对文件结束的处理。以往的题目都是有确定数量的输入，可以在try里按既定数量获取input()，这一题是不定长的输出，只能判断文件结束符。方法见except\n",
    "\n",
    "p_l = []\n",
    "n_l = []\n",
    "\n",
    "while True:\n",
    "    try:\n",
    "        i = int(input())\n",
    "        if i >= 0:\n",
    "            p_l.append(i)\n",
    "        else:\n",
    "            n_l.append(i)\n",
    "    except EOFError: ###重点重点重点，在python中对文件结束符的判断，可以用except EOFError来获取。没有碰到结束符之前，只记录输入，碰到结束符之后，处理输出。\n",
    "        print(len(n_l))\n",
    "        if len(p_l)>0:\n",
    "            print(round(sum(p_l)/len(p_l),1))\n",
    "        else:\n",
    "            print('0.0')\n",
    "        break\n"
   ]
  },
  {
   "cell_type": "markdown",
   "id": "bc41ec2c",
   "metadata": {},
   "source": [
    "---"
   ]
  },
  {
   "cell_type": "markdown",
   "id": "5fb077d5",
   "metadata": {},
   "source": [
    "# HJ106 字符逆序"
   ]
  },
  {
   "cell_type": "markdown",
   "id": "e91c38cb",
   "metadata": {},
   "source": [
    "描述\n",
    "将一个字符串str的内容颠倒过来，并输出。\n",
    "\n",
    "数据范围：\n",
    "1\n",
    "≤\n",
    "l\n",
    "e\n",
    "n\n",
    "(\n",
    "s\n",
    "t\n",
    "r\n",
    ")\n",
    "≤\n",
    "10000\n",
    " \n",
    "1≤len(str)≤10000 \n",
    "输入描述：\n",
    "输入一个字符串，可以有空格\n",
    "\n",
    "输出描述：\n",
    "输出逆序的字符串"
   ]
  },
  {
   "cell_type": "markdown",
   "id": "be669243",
   "metadata": {},
   "source": [
    "示例1\n",
    "输入：\n",
    "I am a student\n",
    "\n",
    "输出：\n",
    "tneduts a ma I\n"
   ]
  },
  {
   "cell_type": "code",
   "execution_count": null,
   "id": "47518998",
   "metadata": {},
   "outputs": [],
   "source": [
    "str_a = input()\n",
    "\n",
    "print(str_a[::-1])"
   ]
  },
  {
   "cell_type": "code",
   "execution_count": null,
   "id": "2b97ffae",
   "metadata": {},
   "outputs": [],
   "source": []
  }
 ],
 "metadata": {
  "kernelspec": {
   "display_name": "Python 3",
   "language": "python",
   "name": "python3"
  },
  "language_info": {
   "codemirror_mode": {
    "name": "ipython",
    "version": 3
   },
   "file_extension": ".py",
   "mimetype": "text/x-python",
   "name": "python",
   "nbconvert_exporter": "python",
   "pygments_lexer": "ipython3",
   "version": "3.8.8"
  }
 },
 "nbformat": 4,
 "nbformat_minor": 5
}
