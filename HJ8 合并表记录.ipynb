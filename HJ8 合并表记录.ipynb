{
 "cells": [
  {
   "cell_type": "markdown",
   "id": "264610ea",
   "metadata": {},
   "source": [
    "# HJ8 合并表记录"
   ]
  },
  {
   "cell_type": "markdown",
   "id": "f1b74370",
   "metadata": {},
   "source": [
    "描述\n",
    "\n",
    "数据表记录包含表索引index和数值value（int范围的正整数），请对表索引相同的记录进行合并，即将相同索引的数值进行求和运算，输出按照index值升序进行输出。\n",
    "\n",
    "\n",
    "提示:   \n",
    "0 <= index <= 11111111   \n",
    "1 <= value <= 100000   \n",
    "   \n",
    "输入描述：   \n",
    "先输入键值对的个数n（1 <= n <= 500）   \n",
    "接下来n行每行输入成对的index和value值，以空格隔开   \n",
    "\n",
    "输出描述：   \n",
    "输出合并后的键值对（多行）   \n",
    "\n",
    "示例1"
   ]
  },
  {
   "cell_type": "markdown",
   "id": "027b6fc3",
   "metadata": {},
   "source": [
    "输入：   \n",
    "4   \n",
    "\n",
    "0 1   \n",
    "0 2   \n",
    "1 2   \n",
    "3 4   \n",
    "\n",
    "输出：   \n",
    "0 3   \n",
    "1 2   \n",
    "3 4   "
   ]
  },
  {
   "cell_type": "markdown",
   "id": "a383e2f6",
   "metadata": {},
   "source": [
    "示例2"
   ]
  },
  {
   "cell_type": "markdown",
   "id": "898a57f3",
   "metadata": {},
   "source": [
    "输入：   \n",
    "3    \n",
    "\n",
    "0 1   \n",
    "0 2   \n",
    "8 9   \n",
    "   \n",
    "输出：   \n",
    "0 3   \n",
    "8 9   "
   ]
  },
  {
   "cell_type": "code",
   "execution_count": null,
   "id": "95432def",
   "metadata": {},
   "outputs": [],
   "source": [
    "num = int(input())\n",
    "dic = {}\n",
    "\n",
    "for i in range(num):\n",
    "    lst = input().split(' ')\n",
    "    if lst[0] in dic:\n",
    "        dic[lst[0]] += lst[1]\n",
    "    else:\n",
    "        dic[lst[0]] = lst[1]\n",
    "        \n",
    "for key in dic:\n",
    "    print(dic[key].keys()+' '+dic[key].values())\n"
   ]
  },
  {
   "cell_type": "markdown",
   "id": "4b9443da",
   "metadata": {},
   "source": [
    "# 题目结果要求要排序，注意一下"
   ]
  },
  {
   "cell_type": "code",
   "execution_count": null,
   "id": "4d6c37ee",
   "metadata": {},
   "outputs": [],
   "source": [
    "num = int(input())\n",
    "dic = {}\n",
    "dic2 = {}\n",
    "\n",
    "for i in range(num):\n",
    "    lst = input().split(' ')\n",
    "    key = int(lst[0])\n",
    "    value = int(lst[1])\n",
    "    if key in dic:\n",
    "        dic[key] += value\n",
    "    else:\n",
    "        dic[key] = value\n",
    "\n",
    "for i in sorted(dic.keys()):\n",
    "    dic2[i] = dic.get(i)\n",
    "\n",
    "for key in dic2.keys():\n",
    "    print(str(key) +' '+str(dic2.get(key)))\n"
   ]
  },
  {
   "cell_type": "markdown",
   "id": "1623f8c4",
   "metadata": {},
   "source": [
    "---"
   ]
  },
  {
   "cell_type": "markdown",
   "id": "0942c71e",
   "metadata": {},
   "source": [
    "# 网友代码"
   ]
  },
  {
   "cell_type": "code",
   "execution_count": null,
   "id": "47f28de0",
   "metadata": {},
   "outputs": [],
   "source": [
    "dic = {}\n",
    "n = int(input())\n",
    "while True:\n",
    "    try:\n",
    "        line = input()\n",
    "        tmp = line.split()\n",
    "        index = int(tmp[0])\n",
    "        value = int(tmp[1])\n",
    "        if index in dic:\n",
    "            dic[index] += value\n",
    "        else:\n",
    "            dic[index] = value\n",
    "    except:\n",
    "        break\n",
    "for k, v in sorted(dic.items()):\n",
    "    print(f'{k} {v}')"
   ]
  }
 ],
 "metadata": {
  "kernelspec": {
   "display_name": "Python 3",
   "language": "python",
   "name": "python3"
  },
  "language_info": {
   "codemirror_mode": {
    "name": "ipython",
    "version": 3
   },
   "file_extension": ".py",
   "mimetype": "text/x-python",
   "name": "python",
   "nbconvert_exporter": "python",
   "pygments_lexer": "ipython3",
   "version": "3.8.8"
  }
 },
 "nbformat": 4,
 "nbformat_minor": 5
}
