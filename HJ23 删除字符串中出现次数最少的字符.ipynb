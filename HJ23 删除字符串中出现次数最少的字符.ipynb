{
 "cells": [
  {
   "cell_type": "markdown",
   "id": "48d817e8",
   "metadata": {},
   "source": [
    "# HJ23 删除字符串中出现次数最少的字符"
   ]
  },
  {
   "cell_type": "markdown",
   "id": "5fe1a015",
   "metadata": {},
   "source": [
    "描述\n",
    "\n",
    "实现删除字符串中出现次数最少的字符，若出现次数最少的字符有多个，则把出现次数最少的字符都删除。输出删除这些单词后的字符串，字符串中其它字符保持原来的顺序。\n",
    "\n",
    "数据范围：输入的字符串长度满足 \n",
    "1≤n≤20\n",
    "\n",
    "1≤n≤20  ，保证输入的字符串中仅出现小写字母\n",
    "\n",
    "输入描述：\n",
    "\n",
    "字符串只包含小写英文字母, 不考虑非法输入，输入的字符串长度小于等于20个字节。\n",
    "\n",
    "输出描述：\n",
    "\n",
    "删除字符串中出现次数最少的字符后的字符串。"
   ]
  },
  {
   "cell_type": "markdown",
   "id": "6c2e22db",
   "metadata": {},
   "source": [
    "示例1\n",
    "\n",
    "输入：\n",
    "\n",
    "aabcddd\n",
    "\n",
    "输出：\n",
    "\n",
    "aaddd\n"
   ]
  },
  {
   "cell_type": "code",
   "execution_count": 20,
   "id": "58d3ba9d",
   "metadata": {},
   "outputs": [
    {
     "name": "stdout",
     "output_type": "stream",
     "text": [
      "aabcddd\n",
      "{'d', 'c', 'b', 'a'} [3, 1, 1, 2]\n",
      "1 ['c', 'b']\n",
      "aaddd\n"
     ]
    }
   ],
   "source": [
    "astr = str(input()).lower()\n",
    "#astr = 'aabcddd'\n",
    "lst_origin = []\n",
    "lst_count = []\n",
    "lst_min_w = []\n",
    "\n",
    "for i in range(len(astr)):\n",
    "    lst_origin.append(astr[i])\n",
    "\n",
    "set_a = set(lst_origin)\n",
    "lst_a = list(set_a)\n",
    "\n",
    "for w in set_a:\n",
    "    lst_count.append(lst_origin.count(w))\n",
    "    \n",
    "#print(set_a,lst_count)\n",
    "\n",
    "min_n = min(lst_count)\n",
    "\n",
    "for i in range(len(lst_count)):\n",
    "    if lst_count[i] == min_n:\n",
    "        lst_min_w.append(lst_a[i])\n",
    "        \n",
    "#print(min_n, lst_min_w)\n",
    "\n",
    "str_b = ''\n",
    "\n",
    "for i in range(len(lst_origin)):\n",
    "    if lst_origin[i] not in lst_min_w:\n",
    "        str_b += lst_origin[i]\n",
    "\n",
    "print(str_b)"
   ]
  },
  {
   "cell_type": "markdown",
   "id": "bc77ca27",
   "metadata": {},
   "source": [
    "---"
   ]
  },
  {
   "cell_type": "code",
   "execution_count": null,
   "id": "3b63aeb3",
   "metadata": {},
   "outputs": [],
   "source": [
    "#astr = str(input()).lower()\n",
    "astr = 'aabcddd'\n",
    "lst_origin = []\n",
    "lst_count = []\n",
    "lst_min_w = []\n",
    "\n",
    "for i in range(len(astr)):\n",
    "    lst_origin.append(astr[i])\n",
    "\n",
    "set_a = set(lst_origin)\n",
    "lst_a = list(set_a)\n",
    "\n",
    "for w in set_a:\n",
    "    lst_count.append(lst_origin.count(w))\n",
    "    \n",
    "print(set_a,lst_count)\n",
    "\n",
    "min_n = min(lst_count)\n",
    "\n",
    "for i in range(len(lst_count)):\n",
    "    if lst_count[i] == min_n:\n",
    "        lst_min_w.append(lst_a[i])\n",
    "        \n",
    "print(min_n, lst_min_w)\n",
    "\n",
    "str_b = ''\n",
    "\n",
    "for i in range(len(lst_origin)):\n",
    "    if lst_origin[i] not in lst_min_w:\n",
    "        str_b += lst_origin[i]\n",
    "\n",
    "print(str_b)"
   ]
  },
  {
   "cell_type": "markdown",
   "id": "7c3fb679",
   "metadata": {},
   "source": [
    "---"
   ]
  },
  {
   "cell_type": "code",
   "execution_count": 1,
   "id": "b9fa13f8",
   "metadata": {},
   "outputs": [
    {
     "name": "stdout",
     "output_type": "stream",
     "text": [
      "{'a': 2, 'b': 1, 'c': 1, 'd': 3}\n"
     ]
    }
   ],
   "source": [
    "astr = 'aabcddd'\n",
    "dict = {}\n",
    "\n",
    "for word in astr:\n",
    "    if word in dict:\n",
    "        dict[word] += 1\n",
    "    else:\n",
    "        dict[word] = 1\n",
    "\n",
    "print(dict)"
   ]
  },
  {
   "cell_type": "code",
   "execution_count": 2,
   "id": "b69e9125",
   "metadata": {},
   "outputs": [
    {
     "name": "stdout",
     "output_type": "stream",
     "text": [
      "1\n"
     ]
    }
   ],
   "source": [
    "min_n = min(dict.values())\n",
    "\n",
    "print(min_n)"
   ]
  },
  {
   "cell_type": "code",
   "execution_count": 3,
   "id": "54214096",
   "metadata": {},
   "outputs": [
    {
     "name": "stdout",
     "output_type": "stream",
     "text": [
      "aaddd\n"
     ]
    }
   ],
   "source": [
    "bstr = ''\n",
    "\n",
    "for word in astr:\n",
    "    if dict[word] != min_n:\n",
    "        bstr += word\n",
    "\n",
    "print(bstr)"
   ]
  },
  {
   "cell_type": "markdown",
   "id": "2be054c4",
   "metadata": {},
   "source": [
    "---"
   ]
  },
  {
   "cell_type": "code",
   "execution_count": null,
   "id": "891850c1",
   "metadata": {},
   "outputs": [],
   "source": [
    "s = input()\n",
    "dic = {}\n",
    "for i in s:\n",
    "    if i in dic:\n",
    "        dic[i] += 1\n",
    "    else:\n",
    "        dic[i] = 1\n",
    "MIN = min(dic.values())\n",
    "for i in s:\n",
    "    if dic[i] == MIN:\n",
    "        s = s.replace(i,'')\n",
    "print(s)\n"
   ]
  },
  {
   "cell_type": "code",
   "execution_count": null,
   "id": "02b69f85",
   "metadata": {},
   "outputs": [],
   "source": [
    "a=20#初始值\n",
    "for i in str:\n",
    "    if str.count(i)<=a:\n",
    "        a=str.count(i)#更新最小值\n",
    "    else:\n",
    "        continue\n",
    "for i in str:\n",
    "    if str.count(i)==a:\n",
    "        str=str.replace(i,'')\n",
    "print(str)\n"
   ]
  },
  {
   "cell_type": "code",
   "execution_count": null,
   "id": "9ea3a7c9",
   "metadata": {},
   "outputs": [],
   "source": [
    "s=input()\n",
    "res=''\n",
    "m=[]\n",
    "for i in s:\n",
    "    m.append(s.count(i))\n",
    "for i in s:\n",
    "    if s.count(i)>min(m):\n",
    "        res+=i\n",
    "print(res)      \n"
   ]
  }
 ],
 "metadata": {
  "kernelspec": {
   "display_name": "Python 3",
   "language": "python",
   "name": "python3"
  },
  "language_info": {
   "codemirror_mode": {
    "name": "ipython",
    "version": 3
   },
   "file_extension": ".py",
   "mimetype": "text/x-python",
   "name": "python",
   "nbconvert_exporter": "python",
   "pygments_lexer": "ipython3",
   "version": "3.8.8"
  }
 },
 "nbformat": 4,
 "nbformat_minor": 5
}
